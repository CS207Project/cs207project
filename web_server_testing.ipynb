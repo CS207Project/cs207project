{
 "cells": [
  {
   "cell_type": "code",
   "execution_count": 224,
   "metadata": {
    "collapsed": false
   },
   "outputs": [],
   "source": [
    "%matplotlib inline\n",
    "import numpy as np\n",
    "import requests\n",
    "import json\n",
    "import matplotlib.pyplot as plt"
   ]
  },
  {
   "cell_type": "code",
   "execution_count": 225,
   "metadata": {
    "collapsed": false
   },
   "outputs": [],
   "source": [
    "import timeseries as ts\n",
    "import numpy as np\n",
    "\n",
    "from scipy.stats import norm\n",
    "\n",
    "# m is the mean, s is the standard deviation, and j is the jitter\n",
    "# the meta just fills in values for order and blarg from the schema\n",
    "def tsmaker(m, s, j):\n",
    "    \"returns metadata and a time series in the shape of a jittered normal\"\n",
    "    meta={}\n",
    "    meta['order'] = int(np.random.choice([-5, -4, -3, -2, -1, 0, 1, 2, 3, 4, 5]))\n",
    "    meta['blarg'] = int(np.random.choice([1, 2]))\n",
    "    t = np.arange(0.0, 1.0, 0.1)\n",
    "    v = norm.pdf(t, m, s) + j*np.random.randn(10)\n",
    "    return meta, ts.TimeSeries(t, v)"
   ]
  },
  {
   "cell_type": "code",
   "execution_count": 236,
   "metadata": {
    "collapsed": false
   },
   "outputs": [],
   "source": [
    "\"\"\"\n",
    "Helper functions for making requests\n",
    "\n",
    "insert_ts(self, primary_key, ts):\n",
    "\n",
    "upsert_meta(self, primary_key, metadata_dict)\n",
    "\n",
    "add_trigger(self, proc, onwhat, target, arg)\n",
    "\n",
    "remove_trigger(self, proc, onwhat)\n",
    "\n",
    "augmented_select(self, proc, target, arg=None, metadata_dict={}, additional=None)\n",
    "\n",
    "select(self, metadata_dict={}, fields=None, additional=None)\n",
    "\"\"\"\n",
    "def make_insert_ts(primary_key,t):\n",
    "    return json.dumps({'primary_key':primary_key, 'ts':t.to_json()})\n",
    "\n",
    "def make_upsert_meta(primary_key, metadata_dict):\n",
    "    return json.dumps({'primary_key':primary_key, 'metadata_dict': metadata_dict})\n",
    "\n",
    "def make_add_trigger(proc, onwhat, target, arg):\n",
    "    if hasattr(arg,'to_json'):\n",
    "        arg = arg.to_json()\n",
    "    return json.dumps({'proc':proc,'onwhat':onwhat,'target':target,'arg':arg})\n",
    "\n",
    "def make_remove_trigger(proc, onwhat):\n",
    "    return json.dumps({'proc':proc,'onwhat':onwhat})\n"
   ]
  },
  {
   "cell_type": "code",
   "execution_count": 237,
   "metadata": {
    "collapsed": false
   },
   "outputs": [],
   "source": [
    "server_url = 'http://localhost:8080/tsdb'\n",
    "# add a trigger. notice the argument. It does not do anything here but\n",
    "# could be used to save a shlep of data from client to server.\n",
    "\n",
    "r = requests.post(server_url+'/add/trigger',make_add_trigger('junk', 'insert_ts', None, 'db:one:ts'))\n",
    "assert r.status_code == 200\n",
    "\n",
    "r = requests.post(server_url+'/add/trigger',make_add_trigger('stats', 'insert_ts', ['mean', 'std'], None))\n",
    "assert r.status_code == 200\n",
    "\n"
   ]
  },
  {
   "cell_type": "code",
   "execution_count": 238,
   "metadata": {
    "collapsed": false
   },
   "outputs": [
    {
     "name": "stdout",
     "output_type": "stream",
     "text": [
      "UPSERTS FINISHED\n"
     ]
    }
   ],
   "source": [
    "N_ts = 50\n",
    "N_vp = 5\n",
    "\n",
    "#Set up 50 time series\n",
    "mus = np.random.uniform(low=0.0, high=1.0, size=N_ts)\n",
    "sigs = np.random.uniform(low=0.05, high=0.4, size=N_ts)\n",
    "jits = np.random.uniform(low=0.05, high=0.2, size=N_ts)\n",
    "\n",
    "# dictionaries for time series and their metadata\n",
    "tsdict={}\n",
    "metadict={}\n",
    "for i, m, s, j in zip(range(N_ts), mus, sigs, jits):\n",
    "    meta, tsrs = tsmaker(m, s, j)\n",
    "    # the primary key format is ts-1, ts-2, etc\n",
    "    pk = \"ts-{}\".format(i)\n",
    "    tsdict[pk] = tsrs\n",
    "    meta['vp'] = False # augment metadata with a boolean asking if this is a  VP.\n",
    "    metadict[pk] = meta\n",
    "\n",
    "# choose 5 distinct vantage point time series\n",
    "vpkeys = [\"ts-{}\".format(i) for i in np.random.choice(range(N_ts), size=N_vp, replace=False)]\n",
    "for i in range(N_vp):\n",
    "    # add 5 triggers to upsert distances to these vantage points\n",
    "    requests.post(server_url+'/add/trigger',\n",
    "                  make_add_trigger('corr', 'insert_ts', [\"d_vp-{}\".format(i)], tsdict[vpkeys[i]]))\n",
    "    # change the metadata for the vantage points to have meta['vp']=True\n",
    "    metadict[vpkeys[i]]['vp']=True\n",
    "# Having set up the triggers, now inser the time series, and upsert the metadata\n",
    "for k in tsdict:\n",
    "    requests.post(server_url+'/add/ts',\n",
    "                  make_insert_ts(k, tsdict[k]))\n",
    "    requests.post(server_url+'/add/metadata',\n",
    "                  make_upsert_meta(k, metadict[k]))\n",
    "\n",
    "print(\"UPSERTS FINISHED\")"
   ]
  },
  {
   "cell_type": "code",
   "execution_count": 239,
   "metadata": {
    "collapsed": false
   },
   "outputs": [
    {
     "data": {
      "text/plain": [
       "b'{\"ts-27\": {}, \"ts-43\": {}, \"ts-34\": {}, \"ts-18\": {}, \"ts-35\": {}, \"ts-7\": {}, \"ts-19\": {}, \"ts-40\": {}, \"ts-45\": {}, \"ts-8\": {}, \"ts-30\": {}, \"ts-2\": {}, \"ts-24\": {}, \"ts-47\": {}, \"ts-12\": {}, \"ts-10\": {}, \"ts-39\": {}, \"ts-23\": {}, \"ts-37\": {}, \"ts-6\": {}, \"ts-32\": {}, \"ts-29\": {}, \"ts-21\": {}, \"ts-36\": {}, \"ts-14\": {}, \"ts-31\": {}, \"ts-22\": {}, \"ts-28\": {}, \"ts-26\": {}, \"ts-17\": {}, \"ts-13\": {}, \"ts-41\": {}, \"ts-16\": {}, \"ts-38\": {}, \"ts-15\": {}, \"ts-46\": {}, \"ts-33\": {}, \"ts-20\": {}, \"ts-9\": {}, \"ts-48\": {}, \"ts-3\": {}, \"ts-4\": {}, \"ts-0\": {}, \"ts-11\": {}, \"ts-25\": {}, \"ts-42\": {}, \"ts-44\": {}, \"ts-49\": {}, \"ts-1\": {}, \"ts-5\": {}}'"
      ]
     },
     "execution_count": 239,
     "metadata": {},
     "output_type": "execute_result"
    }
   ],
   "source": [
    "payoad = {}\n",
    "requests.get(server_url+'/select',params={'query':json.dumps(payload)}).content"
   ]
  },
  {
   "cell_type": "code",
   "execution_count": 240,
   "metadata": {
    "collapsed": false
   },
   "outputs": [
    {
     "data": {
      "text/plain": [
       "b'{\"ts-3\": {\"vp\": true, \"order\": 5}, \"ts-24\": {\"vp\": false, \"order\": 5}, \"ts-4\": {\"vp\": false, \"order\": 5}, \"ts-35\": {\"vp\": false, \"order\": 5}, \"ts-7\": {\"vp\": false, \"order\": 5}, \"ts-44\": {\"vp\": false, \"order\": 5}, \"ts-13\": {\"vp\": false, \"order\": 5}, \"ts-42\": {\"vp\": false, \"order\": 4}, \"ts-6\": {\"vp\": false, \"order\": 4}, \"ts-30\": {\"vp\": false, \"order\": 3}}'"
      ]
     },
     "execution_count": 240,
     "metadata": {},
     "output_type": "execute_result"
    }
   ],
   "source": [
    "query = {'where':{'order': {'>=' : 1}},'fields':['order','vp'],'additional':{'sort_by':'-order','limit':10}}\n",
    "requests.get(server_url+'/select',params={'query':json.dumps(query)}).content"
   ]
  },
  {
   "cell_type": "code",
   "execution_count": 241,
   "metadata": {
    "collapsed": false
   },
   "outputs": [
    {
     "name": "stdout",
     "output_type": "stream",
     "text": [
      "------now computing vantage point stuff---------------------\n",
      "VPS ['ts-34', 'ts-46', 'ts-40', 'ts-3', 'ts-49']\n"
     ]
    }
   ],
   "source": [
    "print('------now computing vantage point stuff---------------------')\n",
    "print(\"VPS\", vpkeys)\n",
    "\n",
    "#we first create a query time series.\n",
    "_, query = tsmaker(0.5, 0.2, 0.1)\n",
    "\n",
    "# Step 1: in the vpdist key, get  distances from query to vantage points\n",
    "# this is an augmented select\n",
    "vpdist = {}\n",
    "payload = {'proc':'corr','target':'d','arg':query.to_json()}\n",
    "for v in vpkeys:\n",
    "    payload['where'] = {'pk': v}\n",
    "    r = requests.get(server_url+'/augselect',params={'query':json.dumps(payload)})\n",
    "    results = json.loads(r.content.decode('utf-8'))\n",
    "    vpdist[v] = results[v]['d']"
   ]
  },
  {
   "cell_type": "code",
   "execution_count": 242,
   "metadata": {
    "collapsed": false
   },
   "outputs": [
    {
     "name": "stdout",
     "output_type": "stream",
     "text": [
      "VP DIST\n",
      "{'ts-49': 1.1270731871967223, 'ts-34': 1.1429143526189978, 'ts-3': 0.9205753979330437, 'ts-46': 0.5859373286508017, 'ts-40': 0.9709101927427313}\n"
     ]
    },
    {
     "data": {
      "text/plain": [
       "[<matplotlib.lines.Line2D at 0x110bd9400>]"
      ]
     },
     "execution_count": 242,
     "metadata": {},
     "output_type": "execute_result"
    },
    {
     "data": {
      "image/png": "[encoded data removed]",
      "text/plain": [
       "<matplotlib.figure.Figure at 0x10e1b3cc0>"
      ]
     },
     "metadata": {},
     "output_type": "display_data"
    }
   ],
   "source": [
    "#1b: choose the lowest distance vantage point\n",
    "# you can do this in local code\n",
    "print(\"VP DIST\")\n",
    "print(vpdist)\n",
    "closest_vpk = min(vpkeys,key=lambda v:vpdist[v])\n",
    "\n",
    "# Step 2: find all time series within 2*d(query, nearest_vp_to_query)\n",
    "#this is an augmented select to the same proc in correlation\n",
    "payload = {'proc':'corr','target':'d','arg':query.to_json()}\n",
    "payload['where'] = {'d_'+closest_vpk: {'<=': 2*vpdist[closest_vpk]}}\n",
    "r = requests.get(server_url+'/augselect',params={'query':json.dumps(payload)})\n",
    "results = json.loads(r.content.decode('utf-8'))\n",
    "\n",
    "#2b: find the smallest distance amongst this ( or k smallest)\n",
    "#you can do this in local code\n",
    "nearestwanted = min(results.keys(),key=lambda p: results[p]['d'])\n",
    "\n",
    "plt.plot(query)\n",
    "plt.plot(tsdict[nearestwanted])\n"
   ]
  },
  {
   "cell_type": "code",
   "execution_count": null,
   "metadata": {
    "collapsed": true
   },
   "outputs": [],
   "source": []
  }
 ],
 "metadata": {
  "kernelspec": {
   "display_name": "Python 3",
   "language": "python",
   "name": "python3"
  },
  "language_info": {
   "codemirror_mode": {
    "name": "ipython",
    "version": 3
   },
   "file_extension": ".py",
   "mimetype": "text/x-python",
   "name": "python",
   "nbconvert_exporter": "python",
   "pygments_lexer": "ipython3",
   "version": "3.5.1"
  }
 },
 "nbformat": 4,
 "nbformat_minor": 0
}
