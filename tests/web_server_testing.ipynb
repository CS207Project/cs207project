{
 "cells": [
  {
   "cell_type": "code",
   "execution_count": 1,
   "metadata": {
    "collapsed": false
   },
   "outputs": [],
   "source": [
    "%matplotlib inline\n",
    "from webutils import WebClient\n",
    "import matplotlib.pyplot as plt\n",
    "import json"
   ]
  },
  {
   "cell_type": "code",
   "execution_count": 2,
   "metadata": {
    "collapsed": false
   },
   "outputs": [],
   "source": [
    "import timeseries as ts\n",
    "import numpy as np\n",
    "from scipy.stats import norm\n",
    "\n",
    "# m is the mean, s is the standard deviation, and j is the jitter\n",
    "# the meta just fills in values for order and blarg from the schema\n",
    "def tsmaker(m, s, j):\n",
    "    \"returns metadata and a time series in the shape of a jittered normal\"\n",
    "    meta={}\n",
    "    meta['order'] = int(np.random.choice([-5, -4, -3, -2, -1, 0, 1, 2, 3, 4, 5]))\n",
    "    meta['blarg'] = int(np.random.choice([1, 2]))\n",
    "    t = np.arange(0.0, 1.0, 1/1024)\n",
    "    v = norm.pdf(t, m, s) + j*np.random.randn(1024)\n",
    "    return meta, ts.TimeSeries(t, v)"
   ]
  },
  {
   "cell_type": "code",
   "execution_count": 3,
   "metadata": {
    "collapsed": false
   },
   "outputs": [],
   "source": [
    "## remember to start the server and webserver\n",
    "## python go_server.py -len 1024 -vps 10 &\n",
    "## python go_webserver.py &\n",
    "\n",
    "w = WebClient('http://localhost:8080')\n",
    "# w = WebClient('http://www.adjch.me:8080')\n",
    "\n",
    "r = w.add_trigger('junk', 'insert_ts', None, 'db:one:ts')\n",
    "assert r.status_code == 200\n",
    "\n",
    "r = w.add_trigger('stats', 'insert_ts', ['mean', 'std'], None)\n",
    "assert r.status_code == 200\n"
   ]
  },
  {
   "cell_type": "code",
   "execution_count": 4,
   "metadata": {
    "collapsed": false
   },
   "outputs": [],
   "source": [
    "N_ts = 100\n",
    "N_vp = 10\n",
    "\n",
    "# choose 5 distinct vantage point time series\n",
    "vpkeys = [\"ts-{}\".format(i) for i in np.random.choice(range(N_ts), size=N_vp, replace=False)]\n",
    "\n",
    "\n",
    "#Set up 50 time series\n",
    "mus = np.random.uniform(low=0.0, high=1.0, size=N_ts)\n",
    "sigs = np.random.uniform(low=0.05, high=0.4, size=N_ts)\n",
    "jits = np.random.uniform(low=0.05, high=0.2, size=N_ts)\n",
    "\n",
    "\n",
    "# dictionaries for time series and their metadata\n",
    "tsdict={}\n",
    "metadict={}\n",
    "for i, m, s, j in zip(range(N_ts), mus, sigs, jits):\n",
    "    meta, tsrs = tsmaker(m, s, j)\n",
    "    # the primary key format is ts-1, ts-2, etc\n",
    "    pk = \"ts-{}\".format(i)\n",
    "    tsdict[pk] = tsrs\n",
    "    meta['vp'] = False # augment metadata with a boolean asking if this is a  VP.\n",
    "    metadict[pk] = meta"
   ]
  },
  {
   "cell_type": "code",
   "execution_count": 5,
   "metadata": {
    "collapsed": true
   },
   "outputs": [],
   "source": [
    "for i in range(N_vp):\n",
    "    # add 5 triggers to upsert distances to these vantage points\n",
    "    w.add_trigger('corr', 'insert_ts', [\"d_vp-{}\".format(i)], tsdict[vpkeys[i]])\n",
    "    # change the metadata for the vantage points to have meta['vp']=True\n",
    "    metadict[vpkeys[i]]['vp']=True\n",
    "# Having set up the triggers, now inser the time series, and upsert the metadata"
   ]
  },
  {
   "cell_type": "code",
   "execution_count": 6,
   "metadata": {
    "collapsed": false
   },
   "outputs": [
    {
     "name": "stdout",
     "output_type": "stream",
     "text": [
      "UPSERTS FINISHED\n"
     ]
    }
   ],
   "source": [
    "for k in tsdict:\n",
    "    w.insert_ts(k, tsdict[k])\n",
    "    w.upsert_meta(k, metadict[k])\n",
    "\n",
    "print(\"UPSERTS FINISHED\")"
   ]
  },
  {
   "cell_type": "code",
   "execution_count": 7,
   "metadata": {
    "collapsed": false
   },
   "outputs": [
    {
     "data": {
      "text/plain": [
       "b'{\"ts-57\": {}, \"ts-73\": {}, \"ts-21\": {}, \"ts-7\": {}, \"ts-83\": {}, \"ts-62\": {}, \"ts-39\": {}, \"ts-87\": {}, \"ts-36\": {}, \"ts-53\": {}, \"ts-34\": {}, \"ts-84\": {}, \"ts-71\": {}, \"ts-74\": {}, \"ts-1\": {}, \"ts-25\": {}, \"ts-79\": {}, \"ts-76\": {}, \"ts-96\": {}, \"ts-6\": {}, \"ts-38\": {}, \"ts-91\": {}, \"ts-64\": {}, \"ts-9\": {}, \"ts-47\": {}, \"ts-86\": {}, \"ts-45\": {}, \"ts-12\": {}, \"ts-19\": {}, \"ts-63\": {}, \"ts-92\": {}, \"ts-20\": {}, \"ts-80\": {}, \"ts-51\": {}, \"ts-59\": {}, \"ts-44\": {}, \"ts-85\": {}, \"ts-98\": {}, \"ts-35\": {}, \"ts-33\": {}, \"ts-18\": {}, \"ts-89\": {}, \"ts-66\": {}, \"ts-0\": {}, \"ts-37\": {}, \"ts-82\": {}, \"ts-17\": {}, \"ts-52\": {}, \"ts-5\": {}, \"ts-40\": {}, \"ts-43\": {}, \"ts-65\": {}, \"ts-11\": {}, \"ts-4\": {}, \"ts-28\": {}, \"ts-90\": {}, \"ts-67\": {}, \"ts-30\": {}, \"ts-32\": {}, \"ts-15\": {}, \"ts-55\": {}, \"ts-54\": {}, \"ts-70\": {}, \"ts-78\": {}, \"ts-46\": {}, \"ts-10\": {}, \"ts-94\": {}, \"ts-75\": {}, \"ts-81\": {}, \"ts-8\": {}, \"ts-24\": {}, \"ts-48\": {}, \"ts-58\": {}, \"ts-16\": {}, \"ts-93\": {}, \"ts-72\": {}, \"ts-29\": {}, \"ts-60\": {}, \"ts-50\": {}, \"ts-77\": {}, \"ts-61\": {}, \"ts-97\": {}, \"ts-68\": {}, \"ts-13\": {}, \"ts-69\": {}, \"ts-23\": {}, \"ts-3\": {}, \"ts-49\": {}, \"ts-2\": {}, \"ts-41\": {}, \"ts-26\": {}, \"ts-56\": {}, \"ts-14\": {}, \"ts-88\": {}, \"ts-31\": {}, \"ts-42\": {}, \"ts-22\": {}, \"ts-99\": {}, \"ts-27\": {}, \"ts-95\": {}}'"
      ]
     },
     "execution_count": 7,
     "metadata": {},
     "output_type": "execute_result"
    }
   ],
   "source": [
    "w.select().content\n",
    "# w.select('akhil').content"
   ]
  },
  {
   "cell_type": "code",
   "execution_count": 8,
   "metadata": {
    "collapsed": false
   },
   "outputs": [
    {
     "data": {
      "text/plain": [
       "b'{\"ts-0\": {}, \"ts-1\": {}, \"ts-10\": {}, \"ts-11\": {}, \"ts-12\": {}, \"ts-13\": {}, \"ts-14\": {}, \"ts-15\": {}, \"ts-16\": {}, \"ts-17\": {}, \"ts-18\": {}, \"ts-19\": {}, \"ts-2\": {}, \"ts-20\": {}, \"ts-21\": {}, \"ts-22\": {}, \"ts-23\": {}, \"ts-24\": {}, \"ts-25\": {}, \"ts-26\": {}, \"ts-27\": {}, \"ts-28\": {}, \"ts-29\": {}, \"ts-3\": {}, \"ts-30\": {}, \"ts-31\": {}, \"ts-32\": {}, \"ts-33\": {}, \"ts-34\": {}, \"ts-35\": {}, \"ts-36\": {}, \"ts-37\": {}, \"ts-38\": {}, \"ts-39\": {}, \"ts-4\": {}, \"ts-40\": {}, \"ts-41\": {}, \"ts-42\": {}, \"ts-43\": {}, \"ts-44\": {}, \"ts-45\": {}, \"ts-46\": {}, \"ts-47\": {}, \"ts-48\": {}, \"ts-49\": {}, \"ts-5\": {}, \"ts-50\": {}, \"ts-51\": {}, \"ts-52\": {}, \"ts-53\": {}, \"ts-54\": {}, \"ts-55\": {}, \"ts-56\": {}, \"ts-57\": {}, \"ts-58\": {}, \"ts-59\": {}, \"ts-6\": {}, \"ts-60\": {}, \"ts-61\": {}, \"ts-62\": {}, \"ts-63\": {}, \"ts-64\": {}, \"ts-65\": {}, \"ts-66\": {}, \"ts-67\": {}, \"ts-68\": {}, \"ts-69\": {}, \"ts-7\": {}, \"ts-70\": {}, \"ts-71\": {}, \"ts-72\": {}, \"ts-73\": {}, \"ts-74\": {}, \"ts-75\": {}, \"ts-76\": {}, \"ts-77\": {}, \"ts-78\": {}, \"ts-79\": {}, \"ts-8\": {}, \"ts-80\": {}, \"ts-81\": {}, \"ts-82\": {}, \"ts-83\": {}, \"ts-84\": {}, \"ts-85\": {}, \"ts-86\": {}, \"ts-87\": {}, \"ts-88\": {}, \"ts-89\": {}, \"ts-9\": {}, \"ts-90\": {}, \"ts-91\": {}, \"ts-92\": {}, \"ts-93\": {}, \"ts-94\": {}, \"ts-95\": {}, \"ts-96\": {}, \"ts-97\": {}, \"ts-98\": {}, \"ts-99\": {}}'"
      ]
     },
     "execution_count": 8,
     "metadata": {},
     "output_type": "execute_result"
    }
   ],
   "source": [
    "w.select({},None,{'sort_by':'+pk','limit':100}).content"
   ]
  },
  {
   "cell_type": "code",
   "execution_count": 9,
   "metadata": {
    "collapsed": false
   },
   "outputs": [
    {
     "name": "stdout",
     "output_type": "stream",
     "text": [
      "------now computing vantage point stuff---------------------\n",
      "VPS ['ts-84', 'ts-64', 'ts-71', 'ts-54', 'ts-11', 'ts-90', 'ts-14', 'ts-51', 'ts-45', 'ts-18']\n"
     ]
    }
   ],
   "source": [
    "print('------now computing vantage point stuff---------------------')\n",
    "print(\"VPS\", vpkeys)\n",
    "\n",
    "#we first create a query time series.\n",
    "_, query = tsmaker(0.5, 0.2, 0.1)"
   ]
  },
  {
   "cell_type": "code",
   "execution_count": 10,
   "metadata": {
    "collapsed": false
   },
   "outputs": [
    {
     "data": {
      "text/plain": [
       "{'ts-11': 0.26502705981137814,\n",
       " 'ts-14': 0.6451181176765579,\n",
       " 'ts-18': 0.3177346117684379,\n",
       " 'ts-45': 0.5944777513378431,\n",
       " 'ts-51': 0.4189692683520886,\n",
       " 'ts-54': 0.26903895637448594,\n",
       " 'ts-64': 0.23885507363241607,\n",
       " 'ts-71': 0.4967377145231292,\n",
       " 'ts-84': 1.0191429393230687,\n",
       " 'ts-90': 0.7440636986828666}"
      ]
     },
     "execution_count": 10,
     "metadata": {},
     "output_type": "execute_result"
    }
   ],
   "source": [
    "\n",
    "# Step 1: in the vpdist key, get  distances from query to vantage points\n",
    "# this is an augmented select\n",
    "vpdist = {}\n",
    "for v in vpkeys:\n",
    "    r = w.augselect('corr','d',{'pk': v},None,query.to_json())\n",
    "    results = json.loads(r.content.decode('utf-8'))\n",
    "    vpdist[v] = results[v]['d']\n",
    "\n",
    "vpdist"
   ]
  },
  {
   "cell_type": "code",
   "execution_count": 16,
   "metadata": {
    "collapsed": false
   },
   "outputs": [
    {
     "name": "stdout",
     "output_type": "stream",
     "text": [
      "VP DIST\n",
      "{'ts-11': 0.26502705981137814, 'ts-14': 0.6451181176765579, 'ts-51': 0.4189692683520886, 'ts-45': 0.5944777513378431, 'ts-54': 0.26903895637448594, 'ts-64': 0.23885507363241607, 'ts-84': 1.0191429393230687, 'ts-18': 0.3177346117684379, 'ts-71': 0.4967377145231292, 'ts-90': 0.7440636986828666}\n"
     ]
    },
    {
     "data": {
      "text/plain": [
       "[<matplotlib.lines.Line2D at 0x10b797a58>]"
      ]
     },
     "execution_count": 16,
     "metadata": {},
     "output_type": "execute_result"
    },
    {
     "data": {
      "image/png": "[encoded data removed]",
      "text/plain": [
       "<matplotlib.figure.Figure at 0x10b7978d0>"
      ]
     },
     "metadata": {},
     "output_type": "display_data"
    }
   ],
   "source": [
    "#1b: choose the lowest distance vantage point\n",
    "# you can do this in local code\n",
    "print(\"VP DIST\")\n",
    "print(vpdist)\n",
    "closest_vpk = min(vpkeys,key=lambda v:vpdist[v])\n",
    "closest_vpk_dist_col = 'd_vp-' + str(vpkeys.index(closest_vpk))\n",
    "\n",
    "# Step 2: find all time series within 2*d(query, nearest_vp_to_query)\n",
    "#this is an augmented select to the same proc in correlation\n",
    "\n",
    "where_dict = {closest_vpk_dist_col: {'<=': 2*vpdist[closest_vpk]}}\n",
    "r = w.augselect('corr','d',where_dict,arg=query)\n",
    "results = json.loads(r.content.decode('utf-8'))\n",
    "\n",
    "#2b: find the smallest distance amongst this ( or k smallest)\n",
    "#you can do this in local code\n",
    "nearestwanted = min(results.keys(),key=lambda p: results[p]['d'])\n",
    "\n",
    "plt.plot(query)\n",
    "plt.plot(tsdict[nearestwanted])\n"
   ]
  },
  {
   "cell_type": "code",
   "execution_count": 14,
   "metadata": {
    "collapsed": false
   },
   "outputs": [
    {
     "data": {
      "text/plain": [
       "'\"WriteSuccessful\"'"
      ]
     },
     "execution_count": 14,
     "metadata": {},
     "output_type": "execute_result"
    }
   ],
   "source": [
    "r = w.delete_ts(nearestwanted)\n",
    "r.content.decode('utf-8')"
   ]
  },
  {
   "cell_type": "code",
   "execution_count": 15,
   "metadata": {
    "collapsed": false
   },
   "outputs": [
    {
     "data": {
      "text/plain": [
       "{'ts-43': 0.03835306857203734}"
      ]
     },
     "execution_count": 15,
     "metadata": {},
     "output_type": "execute_result"
    }
   ],
   "source": [
    "r = w.find_similar(query,vpkeys)\n",
    "results = json.loads(r.content.decode('utf-8'))\n",
    "results"
   ]
  },
  {
   "cell_type": "code",
   "execution_count": 17,
   "metadata": {
    "collapsed": false
   },
   "outputs": [
    {
     "data": {
      "text/plain": [
       "'ts-43'"
      ]
     },
     "execution_count": 17,
     "metadata": {},
     "output_type": "execute_result"
    }
   ],
   "source": [
    "nearestwanted"
   ]
  },
  {
   "cell_type": "code",
   "execution_count": null,
   "metadata": {
    "collapsed": false
   },
   "outputs": [],
   "source": []
  },
  {
   "cell_type": "code",
   "execution_count": null,
   "metadata": {
    "collapsed": true
   },
   "outputs": [],
   "source": []
  }
 ],
 "metadata": {
  "kernelspec": {
   "display_name": "Python 3",
   "language": "python",
   "name": "python3"
  },
  "language_info": {
   "codemirror_mode": {
    "name": "ipython",
    "version": 3
   },
   "file_extension": ".py",
   "mimetype": "text/x-python",
   "name": "python",
   "nbconvert_exporter": "python",
   "pygments_lexer": "ipython3",
   "version": "3.5.1"
  }
 },
 "nbformat": 4,
 "nbformat_minor": 0
}
