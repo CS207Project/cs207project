{
 "cells": [
  {
   "cell_type": "markdown",
   "metadata": {
    "collapsed": false
   },
   "source": [
    "# Demo of our Timeseries Database Implementation\n",
    "\n",
    "Vantage Point tress improve the performance of similarity search by an order of magnitude\n",
    "\n",
    "Before : 1 loop, best of 3: 1.18 s per loop\n",
    "\n",
    "After :  1 loop, best of 3: 514 ms per loop"
   ]
  },
  {
   "cell_type": "code",
   "execution_count": null,
   "metadata": {
    "collapsed": true
   },
   "outputs": [],
   "source": [
    "%matplotlib inline\n",
    "from webutils import WebClient\n",
    "import matplotlib.pyplot as plt\n",
    "import json"
   ]
  },
  {
   "cell_type": "markdown",
   "metadata": {},
   "source": [
    "### Create some data\n",
    "\n",
    "###### IGNORE THIS CELL IF JUST WANT TO SEE THE SYNTAX FOR HOW TO USE THE DB"
   ]
  },
  {
   "cell_type": "code",
   "execution_count": 27,
   "metadata": {
    "collapsed": false
   },
   "outputs": [],
   "source": [
    "# This is utility function to make sample time series\n",
    "\n",
    "import timeseries as ts\n",
    "import numpy as np\n",
    "from scipy.stats import norm\n",
    "\n",
    "# m is the mean, s is the standard deviation, and j is the jitter\n",
    "# the meta just fills in values for order and blarg from the schema\n",
    "# ts_len is the length of each timeseries. It has to be the same\n",
    "def tsmaker(m, s, j, ts_len = 1024):\n",
    "    \"returns metadata and a time series in the shape of a jittered normal\"\n",
    "    meta={}\n",
    "    meta['order'] = int(np.random.choice([-5, -4, -3, -2, -1, 0, 1, 2, 3, 4, 5]))\n",
    "    meta['blarg'] = int(np.random.choice([1, 2]))\n",
    "    t = np.arange(0.0, 1.0, 1/ts_len)\n",
    "    v = norm.pdf(t, m, s) + j*np.random.randn(ts_len)\n",
    "    return meta, ts.TimeSeries(t, v)\n",
    "\n",
    "\n",
    "N_ts = 1000 # number of timeseries\n",
    "N_vp = 10 # this is the number of vantage points we're going to set up in the database.\n",
    "\n",
    "\n",
    "# choose N_vp distinct vantage point time series\n",
    "vpkeys = [\"ts-{}\".format(i) for i in np.random.choice(range(N_ts), size=N_vp, replace=False)]\n",
    "\n",
    "\n",
    "#Set up N_ts time series\n",
    "mus = np.random.uniform(low=0.0, high=1.0, size=N_ts)\n",
    "sigs = np.random.uniform(low=0.05, high=0.4, size=N_ts)\n",
    "jits = np.random.uniform(low=0.05, high=0.2, size=N_ts)\n",
    "\n",
    "\n",
    "# dictionaries for time series and their metadata\n",
    "tsdict={}\n",
    "metadict={}\n",
    "for i, m, s, j in zip(range(N_ts), mus, sigs, jits):\n",
    "    meta, tsrs = tsmaker(m, s, j)\n",
    "    # the primary key format is ts-1, ts-2, etc\n",
    "    pk = \"ts-{}\".format(i)\n",
    "    tsdict[pk] = tsrs\n",
    "    meta['vp'] = False # augment metadata with a boolean asking if this is a  VP.\n",
    "    metadict[pk] = meta\n",
    "    \n"
   ]
  },
  {
   "cell_type": "markdown",
   "metadata": {},
   "source": [
    "### Start the `Server` and the `Webserver`\n",
    "\n",
    "```bash\n",
    "python go_server.py -len $TS_LEN -vps $NUMVPS &\n",
    "\n",
    "python go_webserver.py &\n",
    "```\n",
    "\n",
    "### Set up a `WebClient` instance to talk to the `WebServer`"
   ]
  },
  {
   "cell_type": "code",
   "execution_count": 28,
   "metadata": {
    "collapsed": false
   },
   "outputs": [],
   "source": [
    "# Create a webclient instance with the correct url.\n",
    "# w = WebClient('http://localhost:8080')\n",
    "w = WebClient('http://www.adjch.me:8080')\n"
   ]
  },
  {
   "cell_type": "markdown",
   "metadata": {},
   "source": [
    "### Adding Simple Triggers"
   ]
  },
  {
   "cell_type": "code",
   "execution_count": null,
   "metadata": {
    "collapsed": true
   },
   "outputs": [],
   "source": [
    "# this is how you add triggers\n",
    "r = w.add_trigger('junk', 'insert_ts', None, 'db:one:ts')\n",
    "assert r.status_code == 200\n",
    "\n",
    "r = w.add_trigger('stats', 'insert_ts', ['mean', 'std'], None)\n",
    "assert r.status_code == 200\n"
   ]
  },
  {
   "cell_type": "markdown",
   "metadata": {},
   "source": [
    "### Adding More Complicated Triggers\n",
    "\n",
    "##### One for each vantage point to compute the distance"
   ]
  },
  {
   "cell_type": "code",
   "execution_count": 30,
   "metadata": {
    "collapsed": true
   },
   "outputs": [],
   "source": [
    "# add triggers for each vantage point to automatically compute distance\n",
    "for i in range(N_vp):\n",
    "    w.add_trigger('corr', 'insert_ts', [\"d_vp-{}\".format(i)], tsdict[vpkeys[i]])\n",
    "    \n",
    "    # change the metadata for the vantage points to have meta['vp']=True\n",
    "    metadict[vpkeys[i]]['vp']=True\n",
    "    metadict[vpkeys[i]]['vp_num']=i"
   ]
  },
  {
   "cell_type": "markdown",
   "metadata": {},
   "source": [
    "### Inserting TimeSeries to the database and Upserting their metadata"
   ]
  },
  {
   "cell_type": "code",
   "execution_count": 31,
   "metadata": {
    "collapsed": false
   },
   "outputs": [
    {
     "name": "stdout",
     "output_type": "stream",
     "text": [
      "Done with 0 inserts\n",
      "Done with 100 inserts\n",
      "Done with 200 inserts\n",
      "Done with 300 inserts\n",
      "Done with 400 inserts\n",
      "Done with 500 inserts\n",
      "Done with 600 inserts\n",
      "Done with 700 inserts\n",
      "Done with 800 inserts\n",
      "Done with 900 inserts\n",
      "UPSERTS FINISHED\n"
     ]
    }
   ],
   "source": [
    "# this is ho\n",
    "for i,k in enumerate(tsdict):\n",
    "    w.insert_ts(k, tsdict[k])\n",
    "    w.upsert_meta(k, metadict[k])\n",
    "    if i % 100 == 0: \n",
    "        print(\"Done with {} inserts\".format(i))\n",
    "\n",
    "print(\"UPSERTS FINISHED\")"
   ]
  },
  {
   "cell_type": "markdown",
   "metadata": {},
   "source": [
    "### Selects\n",
    "\n",
    "###### 1. Most Basic"
   ]
  },
  {
   "cell_type": "code",
   "execution_count": 32,
   "metadata": {
    "collapsed": false
   },
   "outputs": [
    {
     "name": "stdout",
     "output_type": "stream",
     "text": [
      "b'{\"ts-27\": {}, \"ts-239\": {}, \"ts-300\": {}, \"ts-271\": {}, \"ts-422\": {}, \"ts-492\": {}, \"ts-570\": {}, \"ts-402\": {}, \"ts-345\": {}, \"ts-720\": {}, \"ts-554\": {}, \"ts-411\": {}, \"ts-632\": {}, \"ts-897\": {}, \"ts-517\": {}, \"ts-319\": {}, \"ts-627\": {}, \"ts-420\": {}, \"ts-230\": {}, \"ts-671\": {}, \"ts-381\": {}, \"ts-719\": {}, \"ts-936\": {}, \"ts-307\": {}, \"ts-614\": {}, \"ts-90\": {}, \"ts-989\": {}, \"ts-511\": {}, \"ts-596\": {}, \"ts-128\": {}, \"ts-664\": {}, \"ts-37\": {}, \"ts-909\": {}, \"ts-123\": {}, \"ts-540\": {}, \"ts-202\": {}, \"ts-282\": {}, \"ts-396\": {}, \"ts-284\": {}, \"ts-191\": {}, \"ts-840\": {}, \"ts-227\": {}, \"ts-224\": {}, \"ts-987\": {}, \"ts-562\": {}, \"ts-455\": {}, \"ts-534\": {}, \"ts-309\": {}, \"ts-380\": {}, \"ts-959\": {}, \"ts-737\": {}, \"ts-555\": {}, \"ts-957\": {}, \"ts-434\": {}, \"ts-454\": {}, \"ts-541\": {}, \"ts-51\": {}, \"ts-751\": {}, \"ts-416\": {}, \"ts-793\": {}, \"ts-809\": {}, \"ts-707\": {}, \"ts-918\": {}, \"ts-802\": {}, \"ts-283\": {}, \"ts-547\": {}, \"ts-626\": {}, \"ts-873\": {}, \"ts-908\": {}, \"ts-900\": {}, \"ts-255\": {}, \"ts-708\": {}, \"ts-213\": {}, \"ts-206\": {}, \"ts-132\": {}, \"ts-101\": {}, \"ts-147\": {}, \"ts-991\": {}, \"ts-915\": {}, \"ts-14\": {}, \"ts-143\": {}, \"ts-536\": {}, \"ts-364\": {}, \"ts-183\": {}, \"ts-491\": {}, \"ts-601\": {}, \"ts-884\": {}, \"ts-744\": {}, \"ts-566\": {}, \"ts-397\": {}, \"ts-24\": {}, \"ts-616\": {}, \"ts-421\": {}, \"ts-115\": {}, \"ts-686\": {}, \"ts-268\": {}, \"ts-670\": {}, \"ts-812\": {}, \"ts-185\": {}, \"ts-760\": {}}'\n"
     ]
    }
   ],
   "source": [
    "print(w.select(additional={'limit':100}).content)"
   ]
  },
  {
   "cell_type": "markdown",
   "metadata": {},
   "source": [
    "##### 2. Select with specific column criteria"
   ]
  },
  {
   "cell_type": "code",
   "execution_count": 33,
   "metadata": {
    "collapsed": false
   },
   "outputs": [
    {
     "name": "stdout",
     "output_type": "stream",
     "text": [
      "b'{\"ts-819\": {}, \"ts-886\": {}, \"ts-447\": {}, \"ts-398\": {}, \"ts-918\": {}, \"ts-697\": {}, \"ts-422\": {}, \"ts-166\": {}, \"ts-591\": {}, \"ts-944\": {}}'\n"
     ]
    }
   ],
   "source": [
    "print(w.select({'order':1},additional={'limit':10}).content)\n"
   ]
  },
  {
   "cell_type": "markdown",
   "metadata": {},
   "source": [
    "##### 3. Range queries and requesting spefic columns back"
   ]
  },
  {
   "cell_type": "code",
   "execution_count": 34,
   "metadata": {
    "collapsed": false
   },
   "outputs": [
    {
     "name": "stdout",
     "output_type": "stream",
     "text": [
      "b'{\"ts-239\": {\"order\": 4, \"pk\": \"ts-239\"}, \"ts-492\": {\"order\": 5, \"pk\": \"ts-492\"}, \"ts-570\": {\"order\": 4, \"pk\": \"ts-570\"}, \"ts-422\": {\"order\": 1, \"pk\": \"ts-422\"}, \"ts-402\": {\"order\": 4, \"pk\": \"ts-402\"}, \"ts-554\": {\"order\": 1, \"pk\": \"ts-554\"}, \"ts-411\": {\"order\": 1, \"pk\": \"ts-411\"}, \"ts-319\": {\"order\": 4, \"pk\": \"ts-319\"}, \"ts-627\": {\"order\": 1, \"pk\": \"ts-627\"}, \"ts-671\": {\"order\": 5, \"pk\": \"ts-671\"}}'\n"
     ]
    }
   ],
   "source": [
    "print(w.select({'order':{'>=':1}},['pk','order'], additional={'limit':10}).content)"
   ]
  },
  {
   "cell_type": "markdown",
   "metadata": {},
   "source": [
    "##### 4. Sorting"
   ]
  },
  {
   "cell_type": "code",
   "execution_count": 35,
   "metadata": {
    "collapsed": false
   },
   "outputs": [
    {
     "name": "stdout",
     "output_type": "stream",
     "text": [
      "b'{\"ts-492\": {\"order\": 5, \"pk\": \"ts-492\"}, \"ts-671\": {\"order\": 5, \"pk\": \"ts-671\"}, \"ts-511\": {\"order\": 5, \"pk\": \"ts-511\"}, \"ts-959\": {\"order\": 5, \"pk\": \"ts-959\"}, \"ts-957\": {\"order\": 5, \"pk\": \"ts-957\"}, \"ts-802\": {\"order\": 5, \"pk\": \"ts-802\"}, \"ts-283\": {\"order\": 5, \"pk\": \"ts-283\"}, \"ts-908\": {\"order\": 5, \"pk\": \"ts-908\"}, \"ts-708\": {\"order\": 5, \"pk\": \"ts-708\"}, \"ts-14\": {\"order\": 5, \"pk\": \"ts-14\"}}'\n"
     ]
    }
   ],
   "source": [
    "print(w.select({'order':{'>=':1}},['pk','order'],{'sort_by':'-order', 'limit':10}).content)"
   ]
  },
  {
   "cell_type": "markdown",
   "metadata": {},
   "source": [
    "### Finding Similar TimeSeries"
   ]
  },
  {
   "cell_type": "code",
   "execution_count": 36,
   "metadata": {
    "collapsed": false
   },
   "outputs": [],
   "source": [
    "#we first create a query time series.\n",
    "_, query = tsmaker(0.5, 0.2, 0.1)"
   ]
  },
  {
   "cell_type": "code",
   "execution_count": 37,
   "metadata": {
    "collapsed": false
   },
   "outputs": [
    {
     "data": {
      "text/plain": [
       "{'ts-824': 0.026517578861758324}"
      ]
     },
     "execution_count": 37,
     "metadata": {},
     "output_type": "execute_result"
    }
   ],
   "source": [
    "r = w.find_similar(query)\n",
    "results = json.loads(r.content.decode('utf-8'))\n",
    "results"
   ]
  },
  {
   "cell_type": "markdown",
   "metadata": {},
   "source": [
    "### Augmented Select:  Select + Stored Proc\n",
    "\n",
    "Example: A more complicated way to find most similar timeseries"
   ]
  },
  {
   "cell_type": "code",
   "execution_count": 38,
   "metadata": {
    "collapsed": false
   },
   "outputs": [
    {
     "name": "stdout",
     "output_type": "stream",
     "text": [
      "VP DIST\n",
      "{'ts-96': 1.1328913960564795, 'ts-154': 0.7720216921197594, 'ts-486': 0.4986467447809041, 'ts-639': 0.1925987114032709, 'ts-774': 0.6185126483960629, 'ts-410': 0.5677594354666862, 'ts-316': 0.3457819580656807, 'ts-972': 0.861674299632954, 'ts-322': 0.7643316274307594, 'ts-705': 0.3784467947646182}\n"
     ]
    },
    {
     "data": {
      "text/plain": [
       "'ts-824'"
      ]
     },
     "execution_count": 38,
     "metadata": {},
     "output_type": "execute_result"
    }
   ],
   "source": [
    "# Step 1: in the vpdist key, get  distances from query to vantage points\n",
    "# this is an augmented select\n",
    "vpdist = {}\n",
    "for v in vpkeys:\n",
    "    r = w.augselect('corr','d',{'pk': v},None,query.to_json())\n",
    "    results = json.loads(r.content.decode('utf-8'))\n",
    "    vpdist[v] = results[v]['d']\n",
    "\n",
    "#1b: choose the lowest distance vantage point\n",
    "# you can do this in local code\n",
    "print(\"VP DIST\")\n",
    "print(vpdist)\n",
    "closest_vpk = min(vpkeys,key=lambda v:vpdist[v])\n",
    "closest_vpk_dist_col = 'd_vp-' + str(vpkeys.index(closest_vpk))\n",
    "\n",
    "# Step 2: find all time series within 2*d(query, nearest_vp_to_query)\n",
    "#this is an augmented select to the same proc in correlation\n",
    "\n",
    "where_dict = {closest_vpk_dist_col: {'<=': 2*vpdist[closest_vpk]}}\n",
    "r = w.augselect('corr','d',where_dict,arg=query)\n",
    "results = json.loads(r.content.decode('utf-8'))\n",
    "\n",
    "#2b: find the smallest distance amongst this ( or k smallest)\n",
    "#you can do this in local code\n",
    "nearestwanted = min(results.keys(),key=lambda p: results[p]['d'])\n",
    "nearestwanted"
   ]
  },
  {
   "cell_type": "markdown",
   "metadata": {},
   "source": [
    "#### Lets see how similar these actually are:"
   ]
  },
  {
   "cell_type": "code",
   "execution_count": 39,
   "metadata": {
    "collapsed": false
   },
   "outputs": [
    {
     "data": {
      "text/plain": [
       "[<matplotlib.lines.Line2D at 0x10e134a90>]"
      ]
     },
     "execution_count": 39,
     "metadata": {},
     "output_type": "execute_result"
    },
    {
     "data": {
      "image/png": "[encoded data removed]",
      "text/plain": [
       "<matplotlib.figure.Figure at 0x10e1344e0>"
      ]
     },
     "metadata": {},
     "output_type": "display_data"
    }
   ],
   "source": [
    "plt.plot(query)\n",
    "plt.plot(tsdict[nearestwanted])\n"
   ]
  },
  {
   "cell_type": "markdown",
   "metadata": {},
   "source": [
    "#### How much time did finding similar take?"
   ]
  },
  {
   "cell_type": "code",
   "execution_count": 40,
   "metadata": {
    "collapsed": false
   },
   "outputs": [
    {
     "name": "stdout",
     "output_type": "stream",
     "text": [
      "1 loop, best of 3: 1.18 s per loop\n"
     ]
    }
   ],
   "source": [
    "%%timeit\n",
    "r = w.find_similar(query)\n",
    "results = json.loads(r.content.decode('utf-8'))\n",
    "results"
   ]
  },
  {
   "cell_type": "markdown",
   "metadata": {},
   "source": [
    "### Making a Vantage Point Tree"
   ]
  },
  {
   "cell_type": "code",
   "execution_count": 41,
   "metadata": {
    "collapsed": false
   },
   "outputs": [
    {
     "data": {
      "text/plain": [
       "'\"WriteSuccessful\"'"
      ]
     },
     "execution_count": 41,
     "metadata": {},
     "output_type": "execute_result"
    }
   ],
   "source": [
    "r = w.make_vp_tree()\n",
    "r.content.decode('utf-8')"
   ]
  },
  {
   "cell_type": "markdown",
   "metadata": {
    "collapsed": false
   },
   "source": [
    "#### How much time does finding similar take now?"
   ]
  },
  {
   "cell_type": "code",
   "execution_count": 42,
   "metadata": {
    "collapsed": false
   },
   "outputs": [
    {
     "name": "stdout",
     "output_type": "stream",
     "text": [
      "1 loop, best of 3: 514 ms per loop\n"
     ]
    }
   ],
   "source": [
    "%%timeit\n",
    "r = w.find_similar(query)\n",
    "results = json.loads(r.content.decode('utf-8'))\n",
    "results"
   ]
  },
  {
   "cell_type": "markdown",
   "metadata": {
    "collapsed": false
   },
   "source": [
    "### Deleting TimeSeries"
   ]
  },
  {
   "cell_type": "code",
   "execution_count": 43,
   "metadata": {
    "collapsed": false
   },
   "outputs": [
    {
     "data": {
      "text/plain": [
       "'\"WriteSuccessful\"'"
      ]
     },
     "execution_count": 43,
     "metadata": {},
     "output_type": "execute_result"
    }
   ],
   "source": [
    "r = w.delete_ts(nearestwanted)\n",
    "r.content.decode('utf-8')"
   ]
  },
  {
   "cell_type": "markdown",
   "metadata": {},
   "source": [
    "Lets find the most similar again to make sure we got rid of it."
   ]
  },
  {
   "cell_type": "code",
   "execution_count": 44,
   "metadata": {
    "collapsed": false
   },
   "outputs": [
    {
     "data": {
      "text/plain": [
       "{'ts-409': 0.0331546088899852}"
      ]
     },
     "execution_count": 44,
     "metadata": {},
     "output_type": "execute_result"
    }
   ],
   "source": [
    "r = w.find_similar(query)\n",
    "results = json.loads(r.content.decode('utf-8'))\n",
    "results"
   ]
  },
  {
   "cell_type": "code",
   "execution_count": null,
   "metadata": {
    "collapsed": true
   },
   "outputs": [],
   "source": []
  }
 ],
 "metadata": {
  "kernelspec": {
   "display_name": "Python 3",
   "language": "python",
   "name": "python3"
  },
  "language_info": {
   "codemirror_mode": {
    "name": "ipython",
    "version": 3
   },
   "file_extension": ".py",
   "mimetype": "text/x-python",
   "name": "python",
   "nbconvert_exporter": "python",
   "pygments_lexer": "ipython3",
   "version": "3.5.1"
  }
 },
 "nbformat": 4,
 "nbformat_minor": 0
}
