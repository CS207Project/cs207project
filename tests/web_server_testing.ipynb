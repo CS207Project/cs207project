{
 "cells": [
  {
   "cell_type": "code",
   "execution_count": 1,
   "metadata": {
    "collapsed": false
   },
   "outputs": [],
   "source": [
    "%matplotlib inline\n",
    "from webutils import WebClient\n",
    "import matplotlib.pyplot as plt\n",
    "import json"
   ]
  },
  {
   "cell_type": "code",
   "execution_count": 2,
   "metadata": {
    "collapsed": false
   },
   "outputs": [],
   "source": [
    "import timeseries as ts\n",
    "import numpy as np\n",
    "from scipy.stats import norm\n",
    "\n",
    "# m is the mean, s is the standard deviation, and j is the jitter\n",
    "# the meta just fills in values for order and blarg from the schema\n",
    "def tsmaker(m, s, j):\n",
    "    \"returns metadata and a time series in the shape of a jittered normal\"\n",
    "    meta={}\n",
    "    meta['order'] = int(np.random.choice([-5, -4, -3, -2, -1, 0, 1, 2, 3, 4, 5]))\n",
    "    meta['blarg'] = int(np.random.choice([1, 2]))\n",
    "    t = np.arange(0.0, 1.0, 1/1024)\n",
    "    v = norm.pdf(t, m, s) + j*np.random.randn(1024)\n",
    "    return meta, ts.TimeSeries(t, v)"
   ]
  },
  {
   "cell_type": "code",
   "execution_count": 3,
   "metadata": {
    "collapsed": false
   },
   "outputs": [],
   "source": [
    "## remember to start the server and webserver\n",
    "## python go_server.py -len 1024 -vps 10 &\n",
    "## python go_webserver.py &\n",
    "\n",
    "w = WebClient('http://localhost:8080')\n",
    "# w = WebClient('http://www.adjch.me:8080')\n",
    "\n",
    "r = w.add_trigger('junk', 'insert_ts', None, 'db:one:ts')\n",
    "assert r.status_code == 200\n",
    "\n",
    "r = w.add_trigger('stats', 'insert_ts', ['mean', 'std'], None)\n",
    "assert r.status_code == 200\n"
   ]
  },
  {
   "cell_type": "code",
   "execution_count": 4,
   "metadata": {
    "collapsed": false
   },
   "outputs": [],
   "source": [
    "N_ts = 100\n",
    "N_vp = 10\n",
    "\n",
    "# choose 5 distinct vantage point time series\n",
    "vpkeys = [\"ts-{}\".format(i) for i in np.random.choice(range(N_ts), size=N_vp, replace=False)]\n",
    "\n",
    "\n",
    "#Set up 50 time series\n",
    "mus = np.random.uniform(low=0.0, high=1.0, size=N_ts)\n",
    "sigs = np.random.uniform(low=0.05, high=0.4, size=N_ts)\n",
    "jits = np.random.uniform(low=0.05, high=0.2, size=N_ts)\n",
    "\n",
    "\n",
    "# dictionaries for time series and their metadata\n",
    "tsdict={}\n",
    "metadict={}\n",
    "for i, m, s, j in zip(range(N_ts), mus, sigs, jits):\n",
    "    meta, tsrs = tsmaker(m, s, j)\n",
    "    # the primary key format is ts-1, ts-2, etc\n",
    "    pk = \"ts-{}\".format(i)\n",
    "    tsdict[pk] = tsrs\n",
    "    meta['vp'] = False # augment metadata with a boolean asking if this is a  VP.\n",
    "    metadict[pk] = meta"
   ]
  },
  {
   "cell_type": "code",
   "execution_count": 5,
   "metadata": {
    "collapsed": true
   },
   "outputs": [],
   "source": [
    "for i in range(N_vp):\n",
    "    # add 5 triggers to upsert distances to these vantage points\n",
    "    w.add_trigger('corr', 'insert_ts', [\"d_vp-{}\".format(i)], tsdict[vpkeys[i]])\n",
    "    # change the metadata for the vantage points to have meta['vp']=True\n",
    "    metadict[vpkeys[i]]['vp']=True\n",
    "    metadict[vpkeys[i]]['vp_num']=i\n",
    "# Having set up the triggers, now inser the time series, and upsert the metadata"
   ]
  },
  {
   "cell_type": "code",
   "execution_count": 6,
   "metadata": {
    "collapsed": false
   },
   "outputs": [
    {
     "name": "stdout",
     "output_type": "stream",
     "text": [
      "UPSERTS FINISHED\n"
     ]
    }
   ],
   "source": [
    "for k in tsdict:\n",
    "    w.insert_ts(k, tsdict[k])\n",
    "    w.upsert_meta(k, metadict[k])\n",
    "\n",
    "print(\"UPSERTS FINISHED\")"
   ]
  },
  {
   "cell_type": "code",
   "execution_count": 7,
   "metadata": {
    "collapsed": false
   },
   "outputs": [
    {
     "name": "stdout",
     "output_type": "stream",
     "text": [
      "b'{\"ts-44\": {}, \"ts-98\": {}, \"ts-17\": {}, \"ts-50\": {}, \"ts-48\": {}, \"ts-95\": {}, \"ts-66\": {}, \"ts-99\": {}, \"ts-28\": {}, \"ts-14\": {}, \"ts-56\": {}, \"ts-85\": {}, \"ts-37\": {}, \"ts-76\": {}, \"ts-42\": {}, \"ts-84\": {}, \"ts-6\": {}, \"ts-31\": {}, \"ts-33\": {}, \"ts-87\": {}, \"ts-79\": {}, \"ts-3\": {}, \"ts-54\": {}, \"ts-39\": {}, \"ts-62\": {}, \"ts-69\": {}, \"ts-20\": {}, \"ts-47\": {}, \"ts-74\": {}, \"ts-55\": {}, \"ts-40\": {}, \"ts-80\": {}, \"ts-83\": {}, \"ts-1\": {}, \"ts-67\": {}, \"ts-52\": {}, \"ts-13\": {}, \"ts-90\": {}, \"ts-2\": {}, \"ts-34\": {}, \"ts-57\": {}, \"ts-12\": {}, \"ts-4\": {}, \"ts-97\": {}, \"ts-26\": {}, \"ts-41\": {}, \"ts-91\": {}, \"ts-23\": {}, \"ts-73\": {}, \"ts-61\": {}, \"ts-65\": {}, \"ts-77\": {}, \"ts-15\": {}, \"ts-86\": {}, \"ts-49\": {}, \"ts-25\": {}, \"ts-81\": {}, \"ts-29\": {}, \"ts-63\": {}, \"ts-71\": {}, \"ts-68\": {}, \"ts-43\": {}, \"ts-18\": {}, \"ts-60\": {}, \"ts-45\": {}, \"ts-53\": {}, \"ts-11\": {}, \"ts-32\": {}, \"ts-8\": {}, \"ts-58\": {}, \"ts-19\": {}, \"ts-35\": {}, \"ts-51\": {}, \"ts-0\": {}, \"ts-75\": {}, \"ts-36\": {}, \"ts-9\": {}, \"ts-96\": {}, \"ts-93\": {}, \"ts-10\": {}, \"ts-24\": {}, \"ts-30\": {}, \"ts-16\": {}, \"ts-82\": {}, \"ts-21\": {}, \"ts-22\": {}, \"ts-38\": {}, \"ts-59\": {}, \"ts-5\": {}, \"ts-70\": {}, \"ts-46\": {}, \"ts-64\": {}, \"ts-94\": {}, \"ts-27\": {}, \"ts-88\": {}, \"ts-72\": {}, \"ts-7\": {}, \"ts-92\": {}, \"ts-89\": {}, \"ts-78\": {}}'\n",
      "b'{\"ts-37\": {}, \"ts-98\": {}, \"ts-7\": {}, \"ts-18\": {}, \"ts-1\": {}, \"ts-29\": {}, \"ts-47\": {}, \"ts-84\": {}, \"ts-6\": {}, \"ts-31\": {}}'\n",
      "b'{\"ts-98\": {\"order\": 1, \"pk\": \"ts-98\"}, \"ts-17\": {\"order\": 4, \"pk\": \"ts-17\"}, \"ts-20\": {\"order\": 4, \"pk\": \"ts-20\"}, \"ts-47\": {\"order\": 1, \"pk\": \"ts-47\"}, \"ts-10\": {\"order\": 5, \"pk\": \"ts-10\"}, \"ts-74\": {\"order\": 3, \"pk\": \"ts-74\"}, \"ts-55\": {\"order\": 2, \"pk\": \"ts-55\"}, \"ts-49\": {\"order\": 3, \"pk\": \"ts-49\"}, \"ts-25\": {\"order\": 5, \"pk\": \"ts-25\"}, \"ts-83\": {\"order\": 3, \"pk\": \"ts-83\"}, \"ts-1\": {\"order\": 1, \"pk\": \"ts-1\"}, \"ts-29\": {\"order\": 1, \"pk\": \"ts-29\"}, \"ts-66\": {\"order\": 4, \"pk\": \"ts-66\"}, \"ts-67\": {\"order\": 5, \"pk\": \"ts-67\"}, \"ts-13\": {\"order\": 5, \"pk\": \"ts-13\"}, \"ts-14\": {\"order\": 3, \"pk\": \"ts-14\"}, \"ts-2\": {\"order\": 3, \"pk\": \"ts-2\"}, \"ts-37\": {\"order\": 1, \"pk\": \"ts-37\"}, \"ts-42\": {\"order\": 4, \"pk\": \"ts-42\"}, \"ts-18\": {\"order\": 1, \"pk\": \"ts-18\"}, \"ts-60\": {\"order\": 5, \"pk\": \"ts-60\"}, \"ts-8\": {\"order\": 4, \"pk\": \"ts-8\"}, \"ts-84\": {\"order\": 1, \"pk\": \"ts-84\"}, \"ts-12\": {\"order\": 4, \"pk\": \"ts-12\"}, \"ts-31\": {\"order\": 1, \"pk\": \"ts-31\"}, \"ts-6\": {\"order\": 1, \"pk\": \"ts-6\"}, \"ts-33\": {\"order\": 2, \"pk\": \"ts-33\"}, \"ts-46\": {\"order\": 3, \"pk\": \"ts-46\"}, \"ts-97\": {\"order\": 2, \"pk\": \"ts-97\"}, \"ts-64\": {\"order\": 5, \"pk\": \"ts-64\"}, \"ts-27\": {\"order\": 5, \"pk\": \"ts-27\"}, \"ts-88\": {\"order\": 2, \"pk\": \"ts-88\"}, \"ts-26\": {\"order\": 2, \"pk\": \"ts-26\"}, \"ts-87\": {\"order\": 5, \"pk\": \"ts-87\"}, \"ts-79\": {\"order\": 2, \"pk\": \"ts-79\"}, \"ts-91\": {\"order\": 5, \"pk\": \"ts-91\"}, \"ts-7\": {\"order\": 1, \"pk\": \"ts-7\"}, \"ts-89\": {\"order\": 5, \"pk\": \"ts-89\"}, \"ts-62\": {\"order\": 2, \"pk\": \"ts-62\"}, \"ts-36\": {\"order\": 3, \"pk\": \"ts-36\"}, \"ts-15\": {\"order\": 3, \"pk\": \"ts-15\"}}'\n",
      "b'{\"ts-1\": {\"order\": 1, \"pk\": \"ts-1\"}, \"ts-10\": {\"order\": 5, \"pk\": \"ts-10\"}, \"ts-12\": {\"order\": 4, \"pk\": \"ts-12\"}, \"ts-13\": {\"order\": 5, \"pk\": \"ts-13\"}, \"ts-14\": {\"order\": 3, \"pk\": \"ts-14\"}, \"ts-15\": {\"order\": 3, \"pk\": \"ts-15\"}, \"ts-17\": {\"order\": 4, \"pk\": \"ts-17\"}, \"ts-18\": {\"order\": 1, \"pk\": \"ts-18\"}, \"ts-2\": {\"order\": 3, \"pk\": \"ts-2\"}, \"ts-20\": {\"order\": 4, \"pk\": \"ts-20\"}, \"ts-25\": {\"order\": 5, \"pk\": \"ts-25\"}, \"ts-26\": {\"order\": 2, \"pk\": \"ts-26\"}, \"ts-27\": {\"order\": 5, \"pk\": \"ts-27\"}, \"ts-29\": {\"order\": 1, \"pk\": \"ts-29\"}, \"ts-31\": {\"order\": 1, \"pk\": \"ts-31\"}, \"ts-33\": {\"order\": 2, \"pk\": \"ts-33\"}, \"ts-36\": {\"order\": 3, \"pk\": \"ts-36\"}, \"ts-37\": {\"order\": 1, \"pk\": \"ts-37\"}, \"ts-42\": {\"order\": 4, \"pk\": \"ts-42\"}, \"ts-46\": {\"order\": 3, \"pk\": \"ts-46\"}, \"ts-47\": {\"order\": 1, \"pk\": \"ts-47\"}, \"ts-49\": {\"order\": 3, \"pk\": \"ts-49\"}, \"ts-55\": {\"order\": 2, \"pk\": \"ts-55\"}, \"ts-6\": {\"order\": 1, \"pk\": \"ts-6\"}, \"ts-60\": {\"order\": 5, \"pk\": \"ts-60\"}, \"ts-62\": {\"order\": 2, \"pk\": \"ts-62\"}, \"ts-64\": {\"order\": 5, \"pk\": \"ts-64\"}, \"ts-66\": {\"order\": 4, \"pk\": \"ts-66\"}, \"ts-67\": {\"order\": 5, \"pk\": \"ts-67\"}, \"ts-7\": {\"order\": 1, \"pk\": \"ts-7\"}, \"ts-74\": {\"order\": 3, \"pk\": \"ts-74\"}, \"ts-79\": {\"order\": 2, \"pk\": \"ts-79\"}, \"ts-8\": {\"order\": 4, \"pk\": \"ts-8\"}, \"ts-83\": {\"order\": 3, \"pk\": \"ts-83\"}, \"ts-84\": {\"order\": 1, \"pk\": \"ts-84\"}, \"ts-87\": {\"order\": 5, \"pk\": \"ts-87\"}, \"ts-88\": {\"order\": 2, \"pk\": \"ts-88\"}, \"ts-89\": {\"order\": 5, \"pk\": \"ts-89\"}, \"ts-91\": {\"order\": 5, \"pk\": \"ts-91\"}, \"ts-97\": {\"order\": 2, \"pk\": \"ts-97\"}, \"ts-98\": {\"order\": 1, \"pk\": \"ts-98\"}}'\n"
     ]
    }
   ],
   "source": [
    "print(w.select().content)\n",
    "print(w.select({'order':1}).content)\n",
    "print(w.select({'order':{'>=':1}},['pk','order']).content)\n",
    "print(w.select({'order':{'>=':1}},['pk','order'],{'sort_by':'+pk'}).content)\n",
    "\n",
    "# w.select('akhil').content"
   ]
  },
  {
   "cell_type": "code",
   "execution_count": 8,
   "metadata": {
    "collapsed": false
   },
   "outputs": [
    {
     "data": {
      "text/plain": [
       "b'{\"ts-0\": {}, \"ts-1\": {}, \"ts-10\": {}, \"ts-11\": {}, \"ts-12\": {}, \"ts-13\": {}, \"ts-14\": {}, \"ts-15\": {}, \"ts-16\": {}, \"ts-17\": {}, \"ts-18\": {}, \"ts-19\": {}, \"ts-2\": {}, \"ts-20\": {}, \"ts-21\": {}, \"ts-22\": {}, \"ts-23\": {}, \"ts-24\": {}, \"ts-25\": {}, \"ts-26\": {}, \"ts-27\": {}, \"ts-28\": {}, \"ts-29\": {}, \"ts-3\": {}, \"ts-30\": {}, \"ts-31\": {}, \"ts-32\": {}, \"ts-33\": {}, \"ts-34\": {}, \"ts-35\": {}, \"ts-36\": {}, \"ts-37\": {}, \"ts-38\": {}, \"ts-39\": {}, \"ts-4\": {}, \"ts-40\": {}, \"ts-41\": {}, \"ts-42\": {}, \"ts-43\": {}, \"ts-44\": {}, \"ts-45\": {}, \"ts-46\": {}, \"ts-47\": {}, \"ts-48\": {}, \"ts-49\": {}, \"ts-5\": {}, \"ts-50\": {}, \"ts-51\": {}, \"ts-52\": {}, \"ts-53\": {}, \"ts-54\": {}, \"ts-55\": {}, \"ts-56\": {}, \"ts-57\": {}, \"ts-58\": {}, \"ts-59\": {}, \"ts-6\": {}, \"ts-60\": {}, \"ts-61\": {}, \"ts-62\": {}, \"ts-63\": {}, \"ts-64\": {}, \"ts-65\": {}, \"ts-66\": {}, \"ts-67\": {}, \"ts-68\": {}, \"ts-69\": {}, \"ts-7\": {}, \"ts-70\": {}, \"ts-71\": {}, \"ts-72\": {}, \"ts-73\": {}, \"ts-74\": {}, \"ts-75\": {}, \"ts-76\": {}, \"ts-77\": {}, \"ts-78\": {}, \"ts-79\": {}, \"ts-8\": {}, \"ts-80\": {}, \"ts-81\": {}, \"ts-82\": {}, \"ts-83\": {}, \"ts-84\": {}, \"ts-85\": {}, \"ts-86\": {}, \"ts-87\": {}, \"ts-88\": {}, \"ts-89\": {}, \"ts-9\": {}, \"ts-90\": {}, \"ts-91\": {}, \"ts-92\": {}, \"ts-93\": {}, \"ts-94\": {}, \"ts-95\": {}, \"ts-96\": {}, \"ts-97\": {}, \"ts-98\": {}, \"ts-99\": {}}'"
      ]
     },
     "execution_count": 8,
     "metadata": {},
     "output_type": "execute_result"
    }
   ],
   "source": [
    "w.select(additional={'sort_by':'+pk','limit':100}).content"
   ]
  },
  {
   "cell_type": "code",
   "execution_count": 9,
   "metadata": {
    "collapsed": false
   },
   "outputs": [
    {
     "name": "stdout",
     "output_type": "stream",
     "text": [
      "------now computing vantage point stuff---------------------\n",
      "VPS ['ts-5', 'ts-31', 'ts-37', 'ts-86', 'ts-48', 'ts-90', 'ts-42', 'ts-36', 'ts-45', 'ts-9']\n"
     ]
    }
   ],
   "source": [
    "print('------now computing vantage point stuff---------------------')\n",
    "print(\"VPS\", vpkeys)\n",
    "\n",
    "#we first create a query time series.\n",
    "_, query = tsmaker(0.5, 0.2, 0.1)"
   ]
  },
  {
   "cell_type": "code",
   "execution_count": 10,
   "metadata": {
    "collapsed": false
   },
   "outputs": [
    {
     "data": {
      "text/plain": [
       "{'ts-31': 0.6679100704478445,\n",
       " 'ts-36': 0.1815739815637552,\n",
       " 'ts-37': 1.0749777856511147,\n",
       " 'ts-42': 0.5581359432594375,\n",
       " 'ts-45': 0.26418290253464183,\n",
       " 'ts-48': 0.4653869618604,\n",
       " 'ts-5': 0.583250420575175,\n",
       " 'ts-86': 0.607144757511953,\n",
       " 'ts-9': 0.352857443741294,\n",
       " 'ts-90': 1.0131946603611997}"
      ]
     },
     "execution_count": 10,
     "metadata": {},
     "output_type": "execute_result"
    }
   ],
   "source": [
    "\n",
    "# Step 1: in the vpdist key, get  distances from query to vantage points\n",
    "# this is an augmented select\n",
    "vpdist = {}\n",
    "for v in vpkeys:\n",
    "    r = w.augselect('corr','d',{'pk': v},None,query.to_json())\n",
    "    results = json.loads(r.content.decode('utf-8'))\n",
    "    vpdist[v] = results[v]['d']\n",
    "\n",
    "vpdist"
   ]
  },
  {
   "cell_type": "code",
   "execution_count": 11,
   "metadata": {
    "collapsed": false
   },
   "outputs": [
    {
     "name": "stdout",
     "output_type": "stream",
     "text": [
      "VP DIST\n",
      "{'ts-36': 0.1815739815637552, 'ts-90': 1.0131946603611997, 'ts-5': 0.583250420575175, 'ts-37': 1.0749777856511147, 'ts-48': 0.4653869618604, 'ts-31': 0.6679100704478445, 'ts-9': 0.352857443741294, 'ts-86': 0.607144757511953, 'ts-42': 0.5581359432594375, 'ts-45': 0.26418290253464183}\n"
     ]
    },
    {
     "data": {
      "text/plain": [
       "[<matplotlib.lines.Line2D at 0x10bfc2780>]"
      ]
     },
     "execution_count": 11,
     "metadata": {},
     "output_type": "execute_result"
    },
    {
     "data": {
      "image/png": "[encoded data removed]",
      "text/plain": [
       "<matplotlib.figure.Figure at 0x10e129828>"
      ]
     },
     "metadata": {},
     "output_type": "display_data"
    }
   ],
   "source": [
    "#1b: choose the lowest distance vantage point\n",
    "# you can do this in local code\n",
    "print(\"VP DIST\")\n",
    "print(vpdist)\n",
    "closest_vpk = min(vpkeys,key=lambda v:vpdist[v])\n",
    "closest_vpk_dist_col = 'd_vp-' + str(vpkeys.index(closest_vpk))\n",
    "\n",
    "# Step 2: find all time series within 2*d(query, nearest_vp_to_query)\n",
    "#this is an augmented select to the same proc in correlation\n",
    "\n",
    "where_dict = {closest_vpk_dist_col: {'<=': 2*vpdist[closest_vpk]}}\n",
    "r = w.augselect('corr','d',where_dict,arg=query)\n",
    "results = json.loads(r.content.decode('utf-8'))\n",
    "\n",
    "#2b: find the smallest distance amongst this ( or k smallest)\n",
    "#you can do this in local code\n",
    "nearestwanted = min(results.keys(),key=lambda p: results[p]['d'])\n",
    "\n",
    "plt.plot(query)\n",
    "plt.plot(tsdict[nearestwanted])\n"
   ]
  },
  {
   "cell_type": "code",
   "execution_count": 13,
   "metadata": {
    "collapsed": false
   },
   "outputs": [
    {
     "data": {
      "text/plain": [
       "'\"WriteSuccessful\"'"
      ]
     },
     "execution_count": 13,
     "metadata": {},
     "output_type": "execute_result"
    }
   ],
   "source": [
    "r = w.delete_ts(nearestwanted)\n",
    "r.content.decode('utf-8')"
   ]
  },
  {
   "cell_type": "code",
   "execution_count": 15,
   "metadata": {
    "collapsed": false
   },
   "outputs": [
    {
     "data": {
      "text/plain": [
       "{'ts-53': 0.033708340268738875}"
      ]
     },
     "execution_count": 15,
     "metadata": {},
     "output_type": "execute_result"
    }
   ],
   "source": [
    "r = w.find_similar(query)\n",
    "results = json.loads(r.content.decode('utf-8'))\n",
    "results"
   ]
  },
  {
   "cell_type": "code",
   "execution_count": 13,
   "metadata": {
    "collapsed": false
   },
   "outputs": [
    {
     "data": {
      "text/plain": [
       "'ts-53'"
      ]
     },
     "execution_count": 13,
     "metadata": {},
     "output_type": "execute_result"
    }
   ],
   "source": [
    "nearestwanted"
   ]
  },
  {
   "cell_type": "code",
   "execution_count": 14,
   "metadata": {
    "collapsed": false
   },
   "outputs": [
    {
     "data": {
      "text/plain": [
       "'null'"
      ]
     },
     "execution_count": 14,
     "metadata": {},
     "output_type": "execute_result"
    }
   ],
   "source": [
    "r = w.make_vp_tree()\n",
    "r.content.decode('utf-8')"
   ]
  },
  {
   "cell_type": "code",
   "execution_count": null,
   "metadata": {
    "collapsed": true
   },
   "outputs": [],
   "source": []
  }
 ],
 "metadata": {
  "kernelspec": {
   "display_name": "Python 3",
   "language": "python",
   "name": "python3"
  },
  "language_info": {
   "codemirror_mode": {
    "name": "ipython",
    "version": 3
   },
   "file_extension": ".py",
   "mimetype": "text/x-python",
   "name": "python",
   "nbconvert_exporter": "python",
   "pygments_lexer": "ipython3",
   "version": "3.5.1"
  }
 },
 "nbformat": 4,
 "nbformat_minor": 0
}
