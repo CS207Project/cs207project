{
 "cells": [
  {
   "cell_type": "code",
   "execution_count": 34,
   "metadata": {
    "collapsed": false
   },
   "outputs": [],
   "source": [
    "import json\n",
    "import numpy as np\n",
    "import timeseries as ts\n",
    "\n",
    "from scipy.stats import norm"
   ]
  },
  {
   "cell_type": "code",
   "execution_count": 1,
   "metadata": {
    "collapsed": true
   },
   "outputs": [],
   "source": [
    "persistantSchema = {\n",
    "  'pk': {'type': 'string', 'index': None},  #will be indexed anyways\n",
    "  'ts': {'type': None, 'index': None}, #DNY: TimeSeries has no type\n",
    "  'order': {'type': 'int', 'index': 1},\n",
    "  'blarg': {'type': 'int', 'index': 1},\n",
    "  'mean': {'type': 'float', 'index': 1},\n",
    "  'std': {'type': 'float', 'index': 1},\n",
    "  'vp': {'type': 'bool', 'index': 1}\n",
    "}"
   ]
  },
  {
   "cell_type": "code",
   "execution_count": 11,
   "metadata": {
    "collapsed": false
   },
   "outputs": [
    {
     "name": "stdout",
     "output_type": "stream",
     "text": [
      "['blarg', 'std', 'pk', 'vp', 'order', 'mean']\n"
     ]
    }
   ],
   "source": [
    "fieldList = list(persistantSchema.keys())\n",
    "fieldList.remove('ts')\n",
    "sorted(fieldList)\n",
    "print(fieldList)"
   ]
  },
  {
   "cell_type": "code",
   "execution_count": 12,
   "metadata": {
    "collapsed": false
   },
   "outputs": [
    {
     "data": {
      "text/plain": [
       "True"
      ]
     },
     "execution_count": 12,
     "metadata": {},
     "output_type": "execute_result"
    }
   ],
   "source": [
    "'std' > 'pk'"
   ]
  },
  {
   "cell_type": "code",
   "execution_count": 26,
   "metadata": {
    "collapsed": true
   },
   "outputs": [],
   "source": [
    "def tsmaker(m, s, j, n):\n",
    "    \"returns metadata and a time series in the shape of a jittered normal\"\n",
    "    meta={}\n",
    "    meta['order'] = int(np.random.choice([-5, -4, -3, -2, -1, 0, 1, 2, 3, 4, 5]))\n",
    "    meta['blarg'] = int(np.random.choice([1, 2]))\n",
    "    meta['mean'] = 10**np.random.randn()\n",
    "    meta['std'] = 10**np.random.randn()\n",
    "    meta['vp'] = np.random.choice([True, False])\n",
    "    meta['d-vp1'] = 10**np.random.randn()\n",
    "    t = np.linspace(0.0,1.0,n)\n",
    "    v = norm.pdf(t, m, s) + j*np.random.randn(n)\n",
    "    return meta, ts.TimeSeries(t, v)"
   ]
  },
  {
   "cell_type": "code",
   "execution_count": 28,
   "metadata": {
    "collapsed": false
   },
   "outputs": [
    {
     "name": "stdout",
     "output_type": "stream",
     "text": [
      "41209\n",
      "42826\n"
     ]
    }
   ],
   "source": [
    "meta1,ts1 = tsmaker(0.3,0.5,0.01)\n",
    "str1 = json.dumps(ts1.to_json())\n",
    "print(len(str1))\n",
    "meta2,ts2 = tsmaker(2343,0.23423,0.123423)\n",
    "str2 = json.dumps(ts2.to_json())\n",
    "print(len(str2))"
   ]
  },
  {
   "cell_type": "code",
   "execution_count": 32,
   "metadata": {
    "collapsed": false
   },
   "outputs": [
    {
     "name": "stdout",
     "output_type": "stream",
     "text": [
      "True\n"
     ]
    }
   ],
   "source": [
    "print(ts.TimeSeries.from_json(json.loads(str2))==ts2)"
   ]
  },
  {
   "cell_type": "code",
   "execution_count": 35,
   "metadata": {
    "collapsed": false
   },
   "outputs": [],
   "source": [
    "lengths = []\n",
    "for i in range(1000):\n",
    "    meta,series = tsmaker(0.1*np.random.randn(1024),0.1*np.random.randn(1024),0.1*np.random.randn(1024))\n",
    "    string = json.dumps(series.to_json())\n",
    "    lengths.append(len(string))"
   ]
  },
  {
   "cell_type": "code",
   "execution_count": 37,
   "metadata": {
    "collapsed": false
   },
   "outputs": [
    {
     "data": {
      "text/plain": [
       "35231"
      ]
     },
     "execution_count": 37,
     "metadata": {},
     "output_type": "execute_result"
    }
   ],
   "source": [
    "max(lengths)"
   ]
  },
  {
   "cell_type": "code",
   "execution_count": 43,
   "metadata": {
    "collapsed": false
   },
   "outputs": [
    {
     "data": {
      "text/plain": [
       "float"
      ]
     },
     "execution_count": 43,
     "metadata": {},
     "output_type": "execute_result"
    }
   ],
   "source": [
    "type(np.random.randn())"
   ]
  },
  {
   "cell_type": "code",
   "execution_count": null,
   "metadata": {
    "collapsed": true
   },
   "outputs": [],
   "source": []
  }
 ],
 "metadata": {
  "kernelspec": {
   "display_name": "Python 3",
   "language": "python",
   "name": "python3"
  },
  "language_info": {
   "codemirror_mode": {
    "name": "ipython",
    "version": 3
   },
   "file_extension": ".py",
   "mimetype": "text/x-python",
   "name": "python",
   "nbconvert_exporter": "python",
   "pygments_lexer": "ipython3",
   "version": "3.5.1"
  }
 },
 "nbformat": 4,
 "nbformat_minor": 0
}
